{
 "cells": [
  {
   "cell_type": "markdown",
   "id": "fb9d1e96",
   "metadata": {},
   "source": [
    "# N3 — Weak-lensing stacked shear prediction\\n\n",
    "\\n\n",
    "對應 C6：由 $a_0=\\varepsilon c H_0$ 推出堆疊剪切 $\\gamma_t(R)$ 的紅移演化 $\\propto H(z)$。\\n\n",
    "這裡使用 `ptqg.lensing.gamma_t_linear` 的**簡化/示意**版本，便於觀測設計與感度估算。"
   ]
  },
  {
   "cell_type": "code",
   "execution_count": null,
   "id": "d6a09ced",
   "metadata": {},
   "outputs": [],
   "source": [
    "import os, numpy as np, matplotlib.pyplot as plt\n",
    "os.makedirs(\"results\", exist_ok=True)\n",
    "\n",
    "from ptqg.lensing import gamma_t_linear\n",
    "from ptqg.cosmology import omega_lambda_from_eps\n",
    "\n",
    "# 參數\n",
    "# --- Manifest loader (shared across notebooks) ---\n",
    "from ptqg.config import load_manifest, H0_si, annotate_string\n",
    "CFG = load_manifest(\"manifest.yaml\")   # 路徑可依需要改\n",
    "H0 = H0_si(CFG)\n",
    "eps = CFG[\"cosmology\"][\"prior_eps\"][\"mu\"]\n",
    "ANN = annotate_string(CFG)\n",
    "print(\"[cfg] H0 = %.3e s^-1, run:\", H0, CFG[\"project\"][\"run_id\"])\n",
    "\n",
    "Om = 0.31\n",
    "OL = omega_lambda_from_eps(eps)\n",
    "\n",
    "def H_of_z(z):\n",
    "    return H0 * np.sqrt(Om*(1+z)**3 + OL)\n",
    "\n",
    "R_kpc = np.linspace(5, 120, 80)\n",
    "R_m = R_kpc * 3.085677581e19\n",
    "zs = [0.1, 0.3, 0.6]\n",
    "\n",
    "plt.figure(figsize=(6,4))\n",
    "for z in zs:\n",
    "    gt = gamma_t_linear(R_m, eps=eps, H_of_z=H_of_z, z=z, A_geom=1.0, p=0.0)\n",
    "    plt.plot(R_kpc, gt, label=f\"z={z}\")\n",
    "plt.xlabel(\"R [kpc]\"); plt.ylabel(r\"$\\gamma_t(R)$ (toy)\")\n",
    "plt.title(r\"Stacked shear $\\propto a_0(z)/c^2 \\sim H(z)$\")\n",
    "plt.legend(); plt.tight_layout(); plt.savefig(\"results/N3_gamma_t_curves.png\", dpi=150)\n",
    "plt.close()\n",
    "\n",
    "# 檢視 H(z) 標準化：gt(R,z) / H(z)\n",
    "plt.figure(figsize=(6,4))\n",
    "for z in zs:\n",
    "    gt = gamma_t_linear(R_m, eps=eps, H_of_z=H_of_z, z=z, A_geom=1.0, p=0.0)\n",
    "    plt.plot(R_kpc, gt / H_of_z(z), label=f\"z={z}\")\n",
    "plt.xlabel(\"R [kpc]\"); plt.ylabel(r\"$\\gamma_t/H(z)$ (arb.)\")\n",
    "plt.title(\"R-profiles roughly collapse after dividing by H(z)\")\n",
    "plt.legend(); plt.tight_layout(); plt.savefig(\"results/N3_gamma_t_scaled.png\", dpi=150)\n",
    "plt.close()"
   ]
  }
 ],
 "metadata": {
  "kernelspec": {
   "display_name": "Python 3",
   "name": "python3"
  },
  "language_info": {
   "name": "python"
  }
 },
 "nbformat": 4,
 "nbformat_minor": 5
}
