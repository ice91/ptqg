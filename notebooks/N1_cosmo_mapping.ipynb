{
 "nbformat": 4,
 "nbformat_minor": 5,
 "metadata": {
  "kernelspec": {
   "name": "python3",
   "display_name": "Python 3"
  },
  "language_info": {
   "name": "python"
  }
 },
 "cells": [
  {
   "cell_type": "markdown",
   "metadata": {},
   "source": [
    "# N1 — Cosmology mapping: $\\Omega_\\Lambda(\\varepsilon)$\\n",
    "\\n",
    "本 Notebook 驗證論文主張 C2：\\n",
    "$$\\Omega_\\Lambda=\\frac{\\varepsilon^2}{1+\\varepsilon^2}$$\\n",
    "以 `ptqg.cosmology` 內的**解析式**與**數值投影**兩路徑重建並對照殘差（RMS < 1e-3）。"
   ]
  },
  {
   "cell_type": "code",
   "metadata": {},
   "execution_count": null,
   "outputs": [],
   "source": [
    "import os, numpy as np, matplotlib.pyplot as plt\n",
    "os.makedirs(\"results\", exist_ok=True)\n",
    "np.random.seed(42)\n",
    "\n",
    "from ptqg.cosmology import omega_lambda_from_eps, omega_lambda_numeric\n",
    "\n",
    "# H0 預設：70 km/s/Mpc -> ~2.2683e-18 s^-1（數值法需要 t0 ~ 1/H0）\n",
    "H0 = 2.2683e-18\n",
    "def a_of_t(t):\n",
    "    # 這裡僅作背景等效常數Λ的示意，保持 a(t)=1 以驗證映射本身\n",
    "    return 1.0\n",
    "t0 = 1.0 / H0\n",
    "\n",
    "eps_grid = np.linspace(0.0, 3.0, 301)\n",
    "ol_analytic = np.array([omega_lambda_from_eps(e) for e in eps_grid])\n",
    "ol_numeric  = np.array([omega_lambda_numeric(e, t0=t0, a_of_t=a_of_t) for e in eps_grid])\n",
    "resid = ol_numeric - ol_analytic\n",
    "rms = float(np.sqrt(np.mean(resid**2)))\n",
    "rms"
   ]
  },
  {
   "cell_type": "markdown",
   "metadata": {},
   "source": [
    "## 圖：映射與殘差"
   ]
  },
  {
   "cell_type": "code",
   "metadata": {},
   "execution_count": null,
   "outputs": [],
   "source": [
    "plt.figure(figsize=(6,4))\n",
    "plt.plot(eps_grid, ol_analytic, label='analytic')\n",
    "plt.plot(eps_grid, ol_numeric, '--', label='numeric')\n",
    "plt.xlabel(r\"$\\varepsilon$\")\n",
    "plt.ylabel(r\"$\\Omega_\\Lambda$\")\n",
    "plt.title(r\"$\\Omega_\\Lambda(\\varepsilon)$ mapping\")\n",
    "plt.legend(); plt.tight_layout()\n",
    "plt.savefig(\"results/N1_omega_mapping.png\", dpi=150)\n",
    "plt.close()\n",
    "\n",
    "plt.figure(figsize=(6,3.2))\n",
    "plt.plot(eps_grid, resid)\n",
    "plt.axhline(0, color='k', lw=0.8)\n",
    "plt.xlabel(r\"$\\varepsilon$\")\n",
    "plt.ylabel(\"numeric - analytic\")\n",
    "plt.title(f\"Residual RMS = {rms:.2e}\")\n",
    "plt.tight_layout(); plt.savefig(\"results/N1_omega_residual.png\", dpi=150)\n",
    "plt.close()\n",
    "print(f\"[N1] Residual RMS = {rms:.3e}\")\n",
    "\n",
    "# 驗收：RMS < 1e-3\n",
    "assert rms < 1e-3, f\"RMS residual too large: {rms}\""
   ]
  }
 ]
}
