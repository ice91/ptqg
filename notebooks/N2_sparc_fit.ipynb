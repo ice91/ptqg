{
 "cells": [
  {
   "cell_type": "markdown",
   "id": "a44e06e7",
   "metadata": {},
   "source": [
    "# N2 — SPARC small-sample shared-\\u03b5 MCMC\\n\n",
    "\\n\n",
    "對應 C4/C5：以小樣本（預設玩具資料）跑 **共享** $\\varepsilon$ 的 MCMC，產出 $p(\\varepsilon)$、每星系 $\\chi^2_\\nu$ 與 AIC/BIC。\\n\n",
    "可用 `data/sparc.csv`（由 `scripts/fetch_sparc.sh` 取得）或自動 fallback 至玩具資料。"
   ]
  },
  {
   "cell_type": "code",
   "execution_count": null,
   "id": "9337427b",
   "metadata": {},
   "outputs": [],
   "source": [
    "import os, json, numpy as np, matplotlib.pyplot as plt\n",
    "os.makedirs(\"results\", exist_ok=True)\n",
    "np.random.seed(123)\n",
    "\n",
    "from ptqg.data_sparc import load_sparc_csv, toy_sample\n",
    "from ptqg.likelihood import loglike_gaussian, loglike_student_t, model_velocity_kms\n",
    "from ptqg.mcmc import sample, gaussian, uniform\n",
    "from ptqg.model_compare import aic_bic\n",
    "\n",
    "# H0 預設 70 km/s/Mpc -> s^-1\n",
    "# --- Manifest loader (shared across notebooks) ---\n",
    "from ptqg.config import load_manifest, H0_si, annotate_string\n",
    "CFG = load_manifest(\"manifest.yaml\")   # 路徑可依需要改\n",
    "H0 = H0_si(CFG)\n",
    "ANN = annotate_string(CFG)\n",
    "print(\"[cfg] H0 = %.3e s^-1, run:\", H0, CFG[\"project\"][\"run_id\"])\n",
    "CSV = \"data/sparc.csv\"\n",
    "\n",
    "if os.path.exists(CSV):\n",
    "    galaxies = load_sparc_csv(CSV)\n",
    "    print(f\"[N2] Loaded CSV: {CSV} | #gal={len(galaxies)}\")\n",
    "else:\n",
    "    galaxies = toy_sample(n_gal=10, seed=123)\n",
    "    print(f\"[N2] Using toy sample | #gal={len(galaxies)}\")\n",
    "\n",
    "# Priors: 可切換 planck / flat，此處示範 flat\n",
    "prior_eps = uniform(0.0, 4.0)\n",
    "prior_ups = gaussian(0.5, 0.1)\n",
    "\n",
    "# MCMC 參數（預設小步數做 demo；完整請加大）\n",
    "WALKERS, STEPS, SEED = 24, 1500, 123\n",
    "out = sample(galaxies=galaxies, H0=H0, like=\"gaussian\", prior_eps=prior_eps,\n",
    "             prior_ups=prior_ups, n_walkers=WALKERS, n_steps=STEPS, seed=SEED)\n",
    "\n",
    "eps_chain = out[\"eps_chain\"]      # [steps, walkers]\n",
    "logprob   = out[\"logprob\"]\n",
    "np.save(\"results/eps_chain.npy\", eps_chain)\n",
    "np.save(\"results/logprob.npy\", logprob)\n",
    "\n",
    "smax, wmax = np.unravel_index(np.nanargmax(logprob), logprob.shape)\n",
    "eps_map = float(eps_chain[smax, wmax])\n",
    "ups_map = {}\n",
    "for g in galaxies:\n",
    "    ups_map[g.name] = float(out[\"ups_chains\"][g.name][smax, wmax])\n",
    "eps_map"
   ]
  },
  {
   "cell_type": "markdown",
   "id": "29f7463b",
   "metadata": {},
   "source": [
    "## 後驗圖與 MAP 速度剖面一例"
   ]
  },
  {
   "cell_type": "code",
   "execution_count": null,
   "id": "56076131",
   "metadata": {},
   "outputs": [],
   "source": [
    "plt.figure(figsize=(6,4))\n",
    "plt.hist(eps_chain.reshape(-1), bins=60, density=True, alpha=0.75)\n",
    "plt.axvline(eps_map, color='k', lw=1, label=f\"MAP={eps_map:.3f}\")\n",
    "plt.xlabel(r\"$\\varepsilon$\"); plt.ylabel(\"Posterior density\")\n",
    "plt.legend(); plt.tight_layout(); plt.savefig(\"results/N2_eps_posterior.png\", dpi=150)\n",
    "plt.close()\n",
    "\n",
    "gal0 = galaxies[0]\n",
    "r_kpc = gal0.r_m / 3.085677581e19\n",
    "vmod0 = model_velocity_kms(gal0, eps_map, H0, ups_map[gal0.name])\n",
    "plt.figure(figsize=(6,4))\n",
    "plt.errorbar(r_kpc, gal0.v_obs_kms, yerr=gal0.v_err_kms, fmt='o', ms=3, label='obs')\n",
    "plt.plot(r_kpc, vmod0, lw=2, label='model')\n",
    "plt.xlabel('r [kpc]'); plt.ylabel('v [km/s]')\n",
    "plt.title(f\"Example RC fit: {gal0.name}\")\n",
    "plt.legend(); plt.tight_layout(); plt.savefig(\"results/N2_example_rc.png\", dpi=150)\n",
    "plt.close()"
   ]
  },
  {
   "cell_type": "markdown",
   "id": "4e3c9626",
   "metadata": {},
   "source": [
    "## AIC/BIC 與每星系 $\\chi^2_\\nu$（以 Gaussian logL 計算）"
   ]
  },
  {
   "cell_type": "code",
   "execution_count": null,
   "id": "b2cdf013",
   "metadata": {},
   "outputs": [],
   "source": [
    "import csv\n",
    "logL_map, chi2nu = loglike_gaussian(galaxies, eps_map, H0, ups_map)\n",
    "k = 1 + len(galaxies)\n",
    "Ntot = sum(g.r_m.size for g in galaxies)\n",
    "AIC, BIC = aic_bic(logL_map, k, Ntot)\n",
    "print(f\"[N2] MAP eps={eps_map:.4f}, logL={logL_map:.2f}, AIC={AIC:.2f}, BIC={BIC:.2f}\")\n",
    "\n",
    "with open(\"results/N2_per_gal_chi2.csv\", \"w\", newline=\"\") as f:\n",
    "    w = csv.writer(f); w.writerow([\"name\", \"chi2_nu\"])\n",
    "    for n,v in chi2nu.items(): w.writerow([n, f\"{v:.6f}\"])\n",
    "\n",
    "with open(\"results/N2_aic_bic.csv\", \"w\", newline=\"\") as f:\n",
    "    w = csv.writer(f); w.writerow([\"logL_max\",\"k\",\"Ntot\",\"AIC\",\"BIC\"])\n",
    "    w.writerow([f\"{logL_map:.6f}\", k, Ntot, f\"{AIC:.6f}\", f\"{BIC:.6f}\"])\n",
    "\n",
    "# 摘要 JSON\n",
    "summary = dict(eps_map=eps_map, logL_map=logL_map, AIC=AIC, BIC=BIC,\n",
    "               walkers=WALKERS, steps=STEPS, seed=SEED, like='gaussian', H0=H0,\n",
    "               Ntot=Ntot, n_gal=len(galaxies))\n",
    "with open(\"results/N2_summary.json\", \"w\") as f:\n",
    "    json.dump(summary, f, indent=2)\n",
    "summary"
   ]
  }
 ],
 "metadata": {
  "kernelspec": {
   "display_name": "Python 3",
   "name": "python3"
  },
  "language_info": {
   "name": "python"
  }
 },
 "nbformat": 4,
 "nbformat_minor": 5
}
